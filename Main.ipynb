{
 "cells": [
  {
   "cell_type": "markdown",
   "source": [
    "# Data Dive 2"
   ],
   "metadata": {
    "collapsed": false
   },
   "id": "b0422086057e3373"
  },
  {
   "cell_type": "code",
   "execution_count": 2,
   "outputs": [],
   "source": [
    "# Imports\n",
    "\n",
    "import numpy as np\n",
    "import pandas as pd\n",
    "import seaborn as sns\n",
    "import matplotlib.pyplot as plt\n",
    "plt.style.use('fivethirtyeight')\n",
    "%matplotlib inline\n",
    "\n",
    "from sklearn import datasets, linear_model\n",
    "from sklearn.model_selection import train_test_split\n",
    "from sklearn.metrics import mean_squared_error,r2_score,mean_absolute_error,mean_absolute_percentage_error\n",
    "\n",
    "from numpy import arange\n",
    "\n",
    "from sklearn.model_selection import RepeatedKFold\n",
    "from sklearn.model_selection import cross_val_score\n",
    "\n",
    "from sklearn.preprocessing import StandardScaler\n",
    "from sklearn.model_selection import GridSearchCV\n",
    "from sklearn.linear_model import Lasso"
   ],
   "metadata": {
    "collapsed": false,
    "ExecuteTime": {
     "end_time": "2023-10-31T13:31:56.990012Z",
     "start_time": "2023-10-31T13:31:54.847384Z"
    }
   },
   "id": "8d40b3bfcf6c2460"
  },
  {
   "cell_type": "code",
   "execution_count": 3,
   "outputs": [],
   "source": [
    "df= pd.read_csv('credit_card_complaints.csv')"
   ],
   "metadata": {
    "collapsed": false,
    "ExecuteTime": {
     "end_time": "2023-10-31T13:31:58.016585Z",
     "start_time": "2023-10-31T13:31:57.707029Z"
    }
   },
   "id": "821e70ec7e49c2d"
  },
  {
   "cell_type": "code",
   "execution_count": 4,
   "outputs": [
    {
     "name": "stdout",
     "output_type": "stream",
     "text": [
      "<class 'pandas.core.frame.DataFrame'>\n",
      "RangeIndex: 17433 entries, 0 to 17432\n",
      "Data columns (total 18 columns):\n",
      " #   Column                        Non-Null Count  Dtype  \n",
      "---  ------                        --------------  -----  \n",
      " 0   date_received                 17433 non-null  int64  \n",
      " 1   product                       17433 non-null  object \n",
      " 2   sub_product                   0 non-null      float64\n",
      " 3   issue                         17433 non-null  object \n",
      " 4   sub_issue                     0 non-null      float64\n",
      " 5   consumer_complaint_narrative  17433 non-null  object \n",
      " 6   company_public_response       8963 non-null   object \n",
      " 7   company                       17433 non-null  object \n",
      " 8   state                         17379 non-null  object \n",
      " 9   zip_code                      17379 non-null  object \n",
      " 10  tags                          2808 non-null   object \n",
      " 11  consumer_consent_provided     17433 non-null  object \n",
      " 12  submitted_via                 17433 non-null  object \n",
      " 13  date_sent_to_company          17433 non-null  int64  \n",
      " 14  company_response_to_consumer  17433 non-null  object \n",
      " 15  timely_response               17433 non-null  bool   \n",
      " 16  consumer_disputed             16558 non-null  object \n",
      " 17  complaint_id                  17433 non-null  int64  \n",
      "dtypes: bool(1), float64(2), int64(3), object(12)\n",
      "memory usage: 2.3+ MB\n"
     ]
    }
   ],
   "source": [
    "df.info()"
   ],
   "metadata": {
    "collapsed": false,
    "ExecuteTime": {
     "end_time": "2023-10-31T13:32:05.082701Z",
     "start_time": "2023-10-31T13:32:05.017291Z"
    }
   },
   "id": "401849749bf8c97a"
  },
  {
   "cell_type": "code",
   "execution_count": 5,
   "outputs": [
    {
     "data": {
      "text/plain": "       date_received  sub_product  sub_issue  date_sent_to_company  \\\ncount   17433.000000          0.0        0.0          17433.000000   \nmean    42463.076866          NaN        NaN          42464.511329   \nstd       207.296686          NaN        NaN            207.430956   \nmin     42082.000000          NaN        NaN          42082.000000   \n25%     42285.000000          NaN        NaN          42285.000000   \n50%     42474.000000          NaN        NaN          42475.000000   \n75%     42643.000000          NaN        NaN          42644.000000   \nmax     42829.000000          NaN        NaN          42829.000000   \n\n       complaint_id  \ncount  1.743300e+04  \nmean   1.864532e+06  \nstd    3.117701e+05  \nmin    1.290323e+06  \n25%    1.598380e+06  \n50%    1.879286e+06  \n75%    2.139726e+06  \nmax    2.418474e+06  ",
      "text/html": "<div>\n<style scoped>\n    .dataframe tbody tr th:only-of-type {\n        vertical-align: middle;\n    }\n\n    .dataframe tbody tr th {\n        vertical-align: top;\n    }\n\n    .dataframe thead th {\n        text-align: right;\n    }\n</style>\n<table border=\"1\" class=\"dataframe\">\n  <thead>\n    <tr style=\"text-align: right;\">\n      <th></th>\n      <th>date_received</th>\n      <th>sub_product</th>\n      <th>sub_issue</th>\n      <th>date_sent_to_company</th>\n      <th>complaint_id</th>\n    </tr>\n  </thead>\n  <tbody>\n    <tr>\n      <th>count</th>\n      <td>17433.000000</td>\n      <td>0.0</td>\n      <td>0.0</td>\n      <td>17433.000000</td>\n      <td>1.743300e+04</td>\n    </tr>\n    <tr>\n      <th>mean</th>\n      <td>42463.076866</td>\n      <td>NaN</td>\n      <td>NaN</td>\n      <td>42464.511329</td>\n      <td>1.864532e+06</td>\n    </tr>\n    <tr>\n      <th>std</th>\n      <td>207.296686</td>\n      <td>NaN</td>\n      <td>NaN</td>\n      <td>207.430956</td>\n      <td>3.117701e+05</td>\n    </tr>\n    <tr>\n      <th>min</th>\n      <td>42082.000000</td>\n      <td>NaN</td>\n      <td>NaN</td>\n      <td>42082.000000</td>\n      <td>1.290323e+06</td>\n    </tr>\n    <tr>\n      <th>25%</th>\n      <td>42285.000000</td>\n      <td>NaN</td>\n      <td>NaN</td>\n      <td>42285.000000</td>\n      <td>1.598380e+06</td>\n    </tr>\n    <tr>\n      <th>50%</th>\n      <td>42474.000000</td>\n      <td>NaN</td>\n      <td>NaN</td>\n      <td>42475.000000</td>\n      <td>1.879286e+06</td>\n    </tr>\n    <tr>\n      <th>75%</th>\n      <td>42643.000000</td>\n      <td>NaN</td>\n      <td>NaN</td>\n      <td>42644.000000</td>\n      <td>2.139726e+06</td>\n    </tr>\n    <tr>\n      <th>max</th>\n      <td>42829.000000</td>\n      <td>NaN</td>\n      <td>NaN</td>\n      <td>42829.000000</td>\n      <td>2.418474e+06</td>\n    </tr>\n  </tbody>\n</table>\n</div>"
     },
     "execution_count": 5,
     "metadata": {},
     "output_type": "execute_result"
    }
   ],
   "source": [
    "df.describe()"
   ],
   "metadata": {
    "collapsed": false,
    "ExecuteTime": {
     "end_time": "2023-10-31T13:32:09.560761Z",
     "start_time": "2023-10-31T13:32:09.509241Z"
    }
   },
   "id": "b74d2efd93dd7f2a"
  },
  {
   "cell_type": "code",
   "execution_count": null,
   "outputs": [],
   "source": [],
   "metadata": {
    "collapsed": false
   },
   "id": "2fd707465299ae7f"
  }
 ],
 "metadata": {
  "kernelspec": {
   "display_name": "Python 3",
   "language": "python",
   "name": "python3"
  },
  "language_info": {
   "codemirror_mode": {
    "name": "ipython",
    "version": 2
   },
   "file_extension": ".py",
   "mimetype": "text/x-python",
   "name": "python",
   "nbconvert_exporter": "python",
   "pygments_lexer": "ipython2",
   "version": "2.7.6"
  }
 },
 "nbformat": 4,
 "nbformat_minor": 5
}
