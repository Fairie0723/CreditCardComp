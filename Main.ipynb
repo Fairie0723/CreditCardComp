{
 "cells": [
  {
   "cell_type": "markdown",
   "source": [
    "# Data Dive 2"
   ],
   "metadata": {
    "collapsed": false
   },
   "id": "b0422086057e3373"
  },
  {
   "cell_type": "code",
   "execution_count": null,
   "outputs": [],
   "source": [
    "# Imports\n"
   ],
   "metadata": {
    "collapsed": false
   },
   "id": "8d40b3bfcf6c2460"
  }
 ],
 "metadata": {
  "kernelspec": {
   "display_name": "Python 3",
   "language": "python",
   "name": "python3"
  },
  "language_info": {
   "codemirror_mode": {
    "name": "ipython",
    "version": 2
   },
   "file_extension": ".py",
   "mimetype": "text/x-python",
   "name": "python",
   "nbconvert_exporter": "python",
   "pygments_lexer": "ipython2",
   "version": "2.7.6"
  }
 },
 "nbformat": 4,
 "nbformat_minor": 5
}
