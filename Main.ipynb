{
 "cells": [
  {
   "cell_type": "markdown",
   "source": [
    "# Data Dive 2"
   ],
   "metadata": {
    "collapsed": false
   },
   "id": "b0422086057e3373"
  },
  {
   "cell_type": "code",
   "execution_count": 2,
   "outputs": [],
   "source": [
    "# Imports\n",
    "\n",
    "import numpy as np\n",
    "import pandas as pd\n",
    "import seaborn as sns\n",
    "import matplotlib.pyplot as plt\n",
    "plt.style.use('fivethirtyeight')\n",
    "%matplotlib inline\n",
    "\n",
    "from sklearn import datasets, linear_model\n",
    "from sklearn.model_selection import train_test_split\n",
    "from sklearn.metrics import mean_squared_error,r2_score,mean_absolute_error,mean_absolute_percentage_error\n",
    "\n",
    "from numpy import arange\n",
    "\n",
    "from sklearn.model_selection import RepeatedKFold\n",
    "from sklearn.model_selection import cross_val_score\n",
    "\n",
    "from sklearn.preprocessing import StandardScaler\n",
    "from sklearn.model_selection import GridSearchCV\n",
    "from sklearn.linear_model import Lasso"
   ],
   "metadata": {
    "collapsed": false,
    "ExecuteTime": {
     "end_time": "2023-10-31T13:31:56.990012Z",
     "start_time": "2023-10-31T13:31:54.847384Z"
    }
   },
   "id": "8d40b3bfcf6c2460"
  },
  {
   "cell_type": "code",
   "execution_count": 3,
   "outputs": [],
   "source": [
    "df= pd.read_csv('credit_card_complaints.csv')"
   ],
   "metadata": {
    "collapsed": false,
    "ExecuteTime": {
     "end_time": "2023-10-31T13:31:58.016585Z",
     "start_time": "2023-10-31T13:31:57.707029Z"
    }
   },
   "id": "821e70ec7e49c2d"
  },
  {
   "cell_type": "code",
   "execution_count": 4,
   "outputs": [
    {
     "name": "stdout",
     "output_type": "stream",
     "text": [
      "<class 'pandas.core.frame.DataFrame'>\n",
      "RangeIndex: 17433 entries, 0 to 17432\n",
      "Data columns (total 18 columns):\n",
      " #   Column                        Non-Null Count  Dtype  \n",
      "---  ------                        --------------  -----  \n",
      " 0   date_received                 17433 non-null  int64  \n",
      " 1   product                       17433 non-null  object \n",
      " 2   sub_product                   0 non-null      float64\n",
      " 3   issue                         17433 non-null  object \n",
      " 4   sub_issue                     0 non-null      float64\n",
      " 5   consumer_complaint_narrative  17433 non-null  object \n",
      " 6   company_public_response       8963 non-null   object \n",
      " 7   company                       17433 non-null  object \n",
      " 8   state                         17379 non-null  object \n",
      " 9   zip_code                      17379 non-null  object \n",
      " 10  tags                          2808 non-null   object \n",
      " 11  consumer_consent_provided     17433 non-null  object \n",
      " 12  submitted_via                 17433 non-null  object \n",
      " 13  date_sent_to_company          17433 non-null  int64  \n",
      " 14  company_response_to_consumer  17433 non-null  object \n",
      " 15  timely_response               17433 non-null  bool   \n",
      " 16  consumer_disputed             16558 non-null  object \n",
      " 17  complaint_id                  17433 non-null  int64  \n",
      "dtypes: bool(1), float64(2), int64(3), object(12)\n",
      "memory usage: 2.3+ MB\n"
     ]
    }
   ],
   "source": [
    "df.info()"
   ],
   "metadata": {
    "collapsed": false,
    "ExecuteTime": {
     "end_time": "2023-10-31T13:32:05.082701Z",
     "start_time": "2023-10-31T13:32:05.017291Z"
    }
   },
   "id": "401849749bf8c97a"
  },
  {
   "cell_type": "code",
   "execution_count": 5,
   "outputs": [
    {
     "data": {
      "text/plain": "       date_received  sub_product  sub_issue  date_sent_to_company  \\\ncount   17433.000000          0.0        0.0          17433.000000   \nmean    42463.076866          NaN        NaN          42464.511329   \nstd       207.296686          NaN        NaN            207.430956   \nmin     42082.000000          NaN        NaN          42082.000000   \n25%     42285.000000          NaN        NaN          42285.000000   \n50%     42474.000000          NaN        NaN          42475.000000   \n75%     42643.000000          NaN        NaN          42644.000000   \nmax     42829.000000          NaN        NaN          42829.000000   \n\n       complaint_id  \ncount  1.743300e+04  \nmean   1.864532e+06  \nstd    3.117701e+05  \nmin    1.290323e+06  \n25%    1.598380e+06  \n50%    1.879286e+06  \n75%    2.139726e+06  \nmax    2.418474e+06  ",
      "text/html": "<div>\n<style scoped>\n    .dataframe tbody tr th:only-of-type {\n        vertical-align: middle;\n    }\n\n    .dataframe tbody tr th {\n        vertical-align: top;\n    }\n\n    .dataframe thead th {\n        text-align: right;\n    }\n</style>\n<table border=\"1\" class=\"dataframe\">\n  <thead>\n    <tr style=\"text-align: right;\">\n      <th></th>\n      <th>date_received</th>\n      <th>sub_product</th>\n      <th>sub_issue</th>\n      <th>date_sent_to_company</th>\n      <th>complaint_id</th>\n    </tr>\n  </thead>\n  <tbody>\n    <tr>\n      <th>count</th>\n      <td>17433.000000</td>\n      <td>0.0</td>\n      <td>0.0</td>\n      <td>17433.000000</td>\n      <td>1.743300e+04</td>\n    </tr>\n    <tr>\n      <th>mean</th>\n      <td>42463.076866</td>\n      <td>NaN</td>\n      <td>NaN</td>\n      <td>42464.511329</td>\n      <td>1.864532e+06</td>\n    </tr>\n    <tr>\n      <th>std</th>\n      <td>207.296686</td>\n      <td>NaN</td>\n      <td>NaN</td>\n      <td>207.430956</td>\n      <td>3.117701e+05</td>\n    </tr>\n    <tr>\n      <th>min</th>\n      <td>42082.000000</td>\n      <td>NaN</td>\n      <td>NaN</td>\n      <td>42082.000000</td>\n      <td>1.290323e+06</td>\n    </tr>\n    <tr>\n      <th>25%</th>\n      <td>42285.000000</td>\n      <td>NaN</td>\n      <td>NaN</td>\n      <td>42285.000000</td>\n      <td>1.598380e+06</td>\n    </tr>\n    <tr>\n      <th>50%</th>\n      <td>42474.000000</td>\n      <td>NaN</td>\n      <td>NaN</td>\n      <td>42475.000000</td>\n      <td>1.879286e+06</td>\n    </tr>\n    <tr>\n      <th>75%</th>\n      <td>42643.000000</td>\n      <td>NaN</td>\n      <td>NaN</td>\n      <td>42644.000000</td>\n      <td>2.139726e+06</td>\n    </tr>\n    <tr>\n      <th>max</th>\n      <td>42829.000000</td>\n      <td>NaN</td>\n      <td>NaN</td>\n      <td>42829.000000</td>\n      <td>2.418474e+06</td>\n    </tr>\n  </tbody>\n</table>\n</div>"
     },
     "execution_count": 5,
     "metadata": {},
     "output_type": "execute_result"
    }
   ],
   "source": [
    "df.describe()"
   ],
   "metadata": {
    "collapsed": false,
    "ExecuteTime": {
     "end_time": "2023-10-31T13:32:09.560761Z",
     "start_time": "2023-10-31T13:32:09.509241Z"
    }
   },
   "id": "b74d2efd93dd7f2a"
  },
  {
   "cell_type": "code",
   "execution_count": 7,
   "outputs": [
    {
     "data": {
      "text/plain": "    date_received      product  sub_product  \\\n0           42431  Credit card          NaN   \n1           42694  Credit card          NaN   \n2           42139  Credit card          NaN   \n3           42155  Credit card          NaN   \n4           42631  Credit card          NaN   \n..            ...          ...          ...   \n95          42094  Credit card          NaN   \n96          42573  Credit card          NaN   \n97          42360  Credit card          NaN   \n98          42481  Credit card          NaN   \n99          42682  Credit card          NaN   \n\n                                    issue  sub_issue  \\\n0   Identity theft / Fraud / Embezzlement        NaN   \n1                                 Rewards        NaN   \n2                        Billing disputes        NaN   \n3                               Other fee        NaN   \n4                                 Rewards        NaN   \n..                                    ...        ...   \n95                       Billing disputes        NaN   \n96                   Credit determination        NaN   \n97  Identity theft / Fraud / Embezzlement        NaN   \n98                       Billing disputes        NaN   \n99                       Balance transfer        NaN   \n\n                         consumer_complaint_narrative  \\\n0   - I am being pursued by U S Bank for fraudulen...   \n1   - I opened an Amex credit card account in XXXX...   \n2   -- -- -- -- -- Forwarded message -- -- -- -- -...   \n3   -- Price gauging with foreign transaction fees...   \n4   -I have filed a claim already and American Exp...   \n..                                                ...   \n95  30 day late payment assessed. Payment sent XXX...   \n96  30 days past.response not received. \\nPlease r...   \n97  5th 3rd bank and affiliates continue to harass...   \n98  A {$500.00} purchase had been disputed with Bl...   \n99  A balance transfer was initiated with Barclayc...   \n\n                              company_public_response  \\\n0   Company has responded to the consumer and the ...   \n1                                                 NaN   \n2                                                 NaN   \n3    Company chooses not to provide a public response   \n4                                                 NaN   \n..                                                ...   \n95   Company chooses not to provide a public response   \n96                                                NaN   \n97                                                NaN   \n98  Company has responded to the consumer and the ...   \n99  Company has responded to the consumer and the ...   \n\n                              company state zip_code tags  \\\n0                        U.S. Bancorp    AL    352XX  NaN   \n1                                Amex    VA    231XX  NaN   \n2                         Capital One    CA    920XX  NaN   \n3                     Bank of America   NaN      NaN  NaN   \n4                                Amex    CO    805XX  NaN   \n..                                ...   ...      ...  ...   \n95                       Synovus Bank    FL    328XX  NaN   \n96                        Capital One    CA    915XX  NaN   \n97  Fifth Third Financial Corporation    FL    339XX  NaN   \n98                           Citibank    CA    921XX  NaN   \n99                       Barclays PLC    PA    190XX  NaN   \n\n   consumer_consent_provided submitted_via  date_sent_to_company  \\\n0           Consent provided           Web                 42431   \n1           Consent provided           Web                 42695   \n2           Consent provided           Web                 42143   \n3           Consent provided           Web                 42155   \n4           Consent provided           Web                 42631   \n..                       ...           ...                   ...   \n95          Consent provided           Web                 42094   \n96          Consent provided           Web                 42573   \n97          Consent provided           Web                 42360   \n98          Consent provided           Web                 42481   \n99          Consent provided           Web                 42682   \n\n       company_response_to_consumer  timely_response consumer_disputed  \\\n0   Closed with non-monetary relief             True             False   \n1   Closed with non-monetary relief             True              True   \n2           Closed with explanation             True              True   \n3       Closed with monetary relief             True             False   \n4   Closed with non-monetary relief             True             False   \n..                              ...              ...               ...   \n95  Closed with non-monetary relief             True              True   \n96          Closed with explanation             True             False   \n97          Closed with explanation             True             False   \n98      Closed with monetary relief             True             False   \n99          Closed with explanation             True             False   \n\n    complaint_id  \n0        1813752  \n1        2216897  \n2        1378763  \n3        1399288  \n4        2117687  \n..           ...  \n95       1307908  \n96       2024334  \n97       1710693  \n98       1889919  \n99       2200253  \n\n[100 rows x 18 columns]",
      "text/html": "<div>\n<style scoped>\n    .dataframe tbody tr th:only-of-type {\n        vertical-align: middle;\n    }\n\n    .dataframe tbody tr th {\n        vertical-align: top;\n    }\n\n    .dataframe thead th {\n        text-align: right;\n    }\n</style>\n<table border=\"1\" class=\"dataframe\">\n  <thead>\n    <tr style=\"text-align: right;\">\n      <th></th>\n      <th>date_received</th>\n      <th>product</th>\n      <th>sub_product</th>\n      <th>issue</th>\n      <th>sub_issue</th>\n      <th>consumer_complaint_narrative</th>\n      <th>company_public_response</th>\n      <th>company</th>\n      <th>state</th>\n      <th>zip_code</th>\n      <th>tags</th>\n      <th>consumer_consent_provided</th>\n      <th>submitted_via</th>\n      <th>date_sent_to_company</th>\n      <th>company_response_to_consumer</th>\n      <th>timely_response</th>\n      <th>consumer_disputed</th>\n      <th>complaint_id</th>\n    </tr>\n  </thead>\n  <tbody>\n    <tr>\n      <th>0</th>\n      <td>42431</td>\n      <td>Credit card</td>\n      <td>NaN</td>\n      <td>Identity theft / Fraud / Embezzlement</td>\n      <td>NaN</td>\n      <td>- I am being pursued by U S Bank for fraudulen...</td>\n      <td>Company has responded to the consumer and the ...</td>\n      <td>U.S. Bancorp</td>\n      <td>AL</td>\n      <td>352XX</td>\n      <td>NaN</td>\n      <td>Consent provided</td>\n      <td>Web</td>\n      <td>42431</td>\n      <td>Closed with non-monetary relief</td>\n      <td>True</td>\n      <td>False</td>\n      <td>1813752</td>\n    </tr>\n    <tr>\n      <th>1</th>\n      <td>42694</td>\n      <td>Credit card</td>\n      <td>NaN</td>\n      <td>Rewards</td>\n      <td>NaN</td>\n      <td>- I opened an Amex credit card account in XXXX...</td>\n      <td>NaN</td>\n      <td>Amex</td>\n      <td>VA</td>\n      <td>231XX</td>\n      <td>NaN</td>\n      <td>Consent provided</td>\n      <td>Web</td>\n      <td>42695</td>\n      <td>Closed with non-monetary relief</td>\n      <td>True</td>\n      <td>True</td>\n      <td>2216897</td>\n    </tr>\n    <tr>\n      <th>2</th>\n      <td>42139</td>\n      <td>Credit card</td>\n      <td>NaN</td>\n      <td>Billing disputes</td>\n      <td>NaN</td>\n      <td>-- -- -- -- -- Forwarded message -- -- -- -- -...</td>\n      <td>NaN</td>\n      <td>Capital One</td>\n      <td>CA</td>\n      <td>920XX</td>\n      <td>NaN</td>\n      <td>Consent provided</td>\n      <td>Web</td>\n      <td>42143</td>\n      <td>Closed with explanation</td>\n      <td>True</td>\n      <td>True</td>\n      <td>1378763</td>\n    </tr>\n    <tr>\n      <th>3</th>\n      <td>42155</td>\n      <td>Credit card</td>\n      <td>NaN</td>\n      <td>Other fee</td>\n      <td>NaN</td>\n      <td>-- Price gauging with foreign transaction fees...</td>\n      <td>Company chooses not to provide a public response</td>\n      <td>Bank of America</td>\n      <td>NaN</td>\n      <td>NaN</td>\n      <td>NaN</td>\n      <td>Consent provided</td>\n      <td>Web</td>\n      <td>42155</td>\n      <td>Closed with monetary relief</td>\n      <td>True</td>\n      <td>False</td>\n      <td>1399288</td>\n    </tr>\n    <tr>\n      <th>4</th>\n      <td>42631</td>\n      <td>Credit card</td>\n      <td>NaN</td>\n      <td>Rewards</td>\n      <td>NaN</td>\n      <td>-I have filed a claim already and American Exp...</td>\n      <td>NaN</td>\n      <td>Amex</td>\n      <td>CO</td>\n      <td>805XX</td>\n      <td>NaN</td>\n      <td>Consent provided</td>\n      <td>Web</td>\n      <td>42631</td>\n      <td>Closed with non-monetary relief</td>\n      <td>True</td>\n      <td>False</td>\n      <td>2117687</td>\n    </tr>\n    <tr>\n      <th>...</th>\n      <td>...</td>\n      <td>...</td>\n      <td>...</td>\n      <td>...</td>\n      <td>...</td>\n      <td>...</td>\n      <td>...</td>\n      <td>...</td>\n      <td>...</td>\n      <td>...</td>\n      <td>...</td>\n      <td>...</td>\n      <td>...</td>\n      <td>...</td>\n      <td>...</td>\n      <td>...</td>\n      <td>...</td>\n      <td>...</td>\n    </tr>\n    <tr>\n      <th>95</th>\n      <td>42094</td>\n      <td>Credit card</td>\n      <td>NaN</td>\n      <td>Billing disputes</td>\n      <td>NaN</td>\n      <td>30 day late payment assessed. Payment sent XXX...</td>\n      <td>Company chooses not to provide a public response</td>\n      <td>Synovus Bank</td>\n      <td>FL</td>\n      <td>328XX</td>\n      <td>NaN</td>\n      <td>Consent provided</td>\n      <td>Web</td>\n      <td>42094</td>\n      <td>Closed with non-monetary relief</td>\n      <td>True</td>\n      <td>True</td>\n      <td>1307908</td>\n    </tr>\n    <tr>\n      <th>96</th>\n      <td>42573</td>\n      <td>Credit card</td>\n      <td>NaN</td>\n      <td>Credit determination</td>\n      <td>NaN</td>\n      <td>30 days past.response not received. \\nPlease r...</td>\n      <td>NaN</td>\n      <td>Capital One</td>\n      <td>CA</td>\n      <td>915XX</td>\n      <td>NaN</td>\n      <td>Consent provided</td>\n      <td>Web</td>\n      <td>42573</td>\n      <td>Closed with explanation</td>\n      <td>True</td>\n      <td>False</td>\n      <td>2024334</td>\n    </tr>\n    <tr>\n      <th>97</th>\n      <td>42360</td>\n      <td>Credit card</td>\n      <td>NaN</td>\n      <td>Identity theft / Fraud / Embezzlement</td>\n      <td>NaN</td>\n      <td>5th 3rd bank and affiliates continue to harass...</td>\n      <td>NaN</td>\n      <td>Fifth Third Financial Corporation</td>\n      <td>FL</td>\n      <td>339XX</td>\n      <td>NaN</td>\n      <td>Consent provided</td>\n      <td>Web</td>\n      <td>42360</td>\n      <td>Closed with explanation</td>\n      <td>True</td>\n      <td>False</td>\n      <td>1710693</td>\n    </tr>\n    <tr>\n      <th>98</th>\n      <td>42481</td>\n      <td>Credit card</td>\n      <td>NaN</td>\n      <td>Billing disputes</td>\n      <td>NaN</td>\n      <td>A {$500.00} purchase had been disputed with Bl...</td>\n      <td>Company has responded to the consumer and the ...</td>\n      <td>Citibank</td>\n      <td>CA</td>\n      <td>921XX</td>\n      <td>NaN</td>\n      <td>Consent provided</td>\n      <td>Web</td>\n      <td>42481</td>\n      <td>Closed with monetary relief</td>\n      <td>True</td>\n      <td>False</td>\n      <td>1889919</td>\n    </tr>\n    <tr>\n      <th>99</th>\n      <td>42682</td>\n      <td>Credit card</td>\n      <td>NaN</td>\n      <td>Balance transfer</td>\n      <td>NaN</td>\n      <td>A balance transfer was initiated with Barclayc...</td>\n      <td>Company has responded to the consumer and the ...</td>\n      <td>Barclays PLC</td>\n      <td>PA</td>\n      <td>190XX</td>\n      <td>NaN</td>\n      <td>Consent provided</td>\n      <td>Web</td>\n      <td>42682</td>\n      <td>Closed with explanation</td>\n      <td>True</td>\n      <td>False</td>\n      <td>2200253</td>\n    </tr>\n  </tbody>\n</table>\n<p>100 rows × 18 columns</p>\n</div>"
     },
     "execution_count": 7,
     "metadata": {},
     "output_type": "execute_result"
    }
   ],
   "source": [
    "df.head(100)"
   ],
   "metadata": {
    "collapsed": false,
    "ExecuteTime": {
     "end_time": "2023-10-31T13:36:51.144188Z",
     "start_time": "2023-10-31T13:36:51.129020Z"
    }
   },
   "id": "ca4e179eec26e3b9"
  },
  {
   "cell_type": "markdown",
   "source": [
    "# What Questions are We Trying to Ask\n",
    "* Company response vs various types of issues\n",
    "* Most Hated company?\n",
    "* Most Liked (heuristics)\n",
    "* Sentiment analysis (maybe)\n",
    "* Monetary compensation paid to unhappy customers"
   ],
   "metadata": {
    "collapsed": false
   },
   "id": "e12142b626900018"
  },
  {
   "cell_type": "code",
   "execution_count": 8,
   "outputs": [
    {
     "name": "stdout",
     "output_type": "stream",
     "text": [
      "company_public_response\n",
      "Company believes complaint caused principally by actions of third party outside the control or direction of the company      10\n",
      "Company believes complaint is the result of an isolated error                                                                54\n",
      "Company believes complaint relates to a discontinued policy or procedure                                                      1\n",
      "Company believes complaint represents an opportunity for improvement to better serve consumers                               17\n",
      "Company believes it acted appropriately as authorized by contract or law                                                    372\n",
      "Company believes the complaint is the result of a misunderstanding                                                           19\n",
      "Company can't verify or dispute the facts in the complaint                                                                   11\n",
      "Company chooses not to provide a public response                                                                           2912\n",
      "Company disputes the facts presented in the complaint                                                                         7\n",
      "Company has responded to the consumer and the CFPB and chooses not to provide a public response                            5560\n",
      "dtype: int64\n"
     ]
    }
   ],
   "source": [
    "grouped = df.groupby('company_public_response')\n",
    "grouped_count = grouped.size()\n",
    "print(grouped_count)"
   ],
   "metadata": {
    "collapsed": false,
    "ExecuteTime": {
     "end_time": "2023-10-31T13:39:25.219095Z",
     "start_time": "2023-10-31T13:39:25.191057Z"
    }
   },
   "id": "514df55472d04215"
  },
  {
   "cell_type": "code",
   "execution_count": 10,
   "outputs": [
    {
     "name": "stdout",
     "output_type": "stream",
     "text": [
      "company\n",
      "APPLE RECOVERY, LLC              1\n",
      "ARS National Services, Inc.      1\n",
      "Acceptance Rentals, Inc.         1\n",
      "Adir International, LLC          1\n",
      "Affiliates Management Company    1\n",
      "                                ..\n",
      "Weltman, Weinberg & Reis         1\n",
      "Whitney Bank                     1\n",
      "ZENCO COLLECTION, LLC            1\n",
      "Zions Bancorporation             1\n",
      "Zwicker & Associates             1\n",
      "Length: 205, dtype: int64\n",
      "company\n",
      "APPLE RECOVERY, LLC              1737384\n",
      "ARS National Services, Inc.      2117648\n",
      "Acceptance Rentals, Inc.         2186321\n",
      "Adir International, LLC          1417716\n",
      "Affiliates Management Company    2279929\n",
      "                                  ...   \n",
      "Weltman, Weinberg & Reis         1935917\n",
      "Whitney Bank                     2317135\n",
      "ZENCO COLLECTION, LLC            2101805\n",
      "Zions Bancorporation             1315981\n",
      "Zwicker & Associates             1934257\n",
      "Name: complaint_id, Length: 205, dtype: int64\n"
     ]
    }
   ],
   "source": [
    "grouped = df.groupby('company')\n",
    "grouped_count = grouped.size()\n",
    "grouped_sum = grouped['complaint_id'].sum()\n",
    "print(grouped_count)\n",
    "print(grouped_sum)"
   ],
   "metadata": {
    "collapsed": false,
    "ExecuteTime": {
     "end_time": "2023-10-31T13:41:14.234131Z",
     "start_time": "2023-10-31T13:41:14.222582Z"
    }
   },
   "id": "6d8996d8633813d1"
  },
  {
   "cell_type": "code",
   "execution_count": null,
   "outputs": [],
   "source": [],
   "metadata": {
    "collapsed": false
   },
   "id": "d2d012a1fc97551"
  }
 ],
 "metadata": {
  "kernelspec": {
   "display_name": "Python 3",
   "language": "python",
   "name": "python3"
  },
  "language_info": {
   "codemirror_mode": {
    "name": "ipython",
    "version": 2
   },
   "file_extension": ".py",
   "mimetype": "text/x-python",
   "name": "python",
   "nbconvert_exporter": "python",
   "pygments_lexer": "ipython2",
   "version": "2.7.6"
  }
 },
 "nbformat": 4,
 "nbformat_minor": 5
}
